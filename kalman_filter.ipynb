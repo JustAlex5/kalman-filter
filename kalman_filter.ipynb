{
  "nbformat": 4,
  "nbformat_minor": 0,
  "metadata": {
    "colab": {
      "name": "kalman_filter.ipynb",
      "provenance": [],
      "authorship_tag": "ABX9TyOK0n2+UXjTSn2WDylRpnHg",
      "include_colab_link": true
    },
    "kernelspec": {
      "name": "python3",
      "display_name": "Python 3"
    },
    "language_info": {
      "name": "python"
    }
  },
  "cells": [
    {
      "cell_type": "markdown",
      "metadata": {
        "id": "view-in-github",
        "colab_type": "text"
      },
      "source": [
        "<a href=\"https://colab.research.google.com/github/JustAlex5/kaman_filter/blob/main/kalman_filter.ipynb\" target=\"_parent\"><img src=\"https://colab.research.google.com/assets/colab-badge.svg\" alt=\"Open In Colab\"/></a>"
      ]
    },
    {
      "cell_type": "markdown",
      "source": [
        "Alex Kovalyov \n"
      ],
      "metadata": {
        "id": "7NrqyKzi9Vo3"
      }
    },
    {
      "cell_type": "code",
      "source": [
        "#import libraries\n",
        "import numpy as np"
      ],
      "metadata": {
        "id": "Wrw3L7wH9_Yp"
      },
      "execution_count": 1,
      "outputs": []
    },
    {
      "cell_type": "code",
      "source": [
        "delta_t=1\n",
        "feet_coefficient=0.3048\n"
      ],
      "metadata": {
        "id": "afbJbAL69wdt"
      },
      "execution_count": 2,
      "outputs": []
    },
    {
      "cell_type": "markdown",
      "source": [
        "![1.png](data:image/png;base64,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)"
      ],
      "metadata": {
        "id": "hqeyJQDCAbwy"
      }
    },
    {
      "cell_type": "code",
      "source": [
        "def get_prdict_state(F,Xk):\n",
        "  return F*Xk"
      ],
      "metadata": {
        "id": "95OOWi3h-H4r"
      },
      "execution_count": 3,
      "outputs": []
    },
    {
      "cell_type": "markdown",
      "source": [
        "![2.png](data:image/png;base64,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)"
      ],
      "metadata": {
        "id": "kBFyLNrgBN5s"
      }
    },
    {
      "cell_type": "code",
      "source": [
        "def get_predict_estimate(F,P):\n",
        "  return F*P*F.transpose()"
      ],
      "metadata": {
        "id": "Ep5W6bTJARdq"
      },
      "execution_count": 4,
      "outputs": []
    },
    {
      "cell_type": "markdown",
      "source": [
        "![3.png](data:image/png;base64,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)"
      ],
      "metadata": {
        "id": "u2Dgf4ojDZIT"
      }
    },
    {
      "cell_type": "code",
      "source": [
        "def get_measurement(Zk,H,Xk_predict):\n",
        "  return Zk-H*Xk_predict"
      ],
      "metadata": {
        "id": "q2OnWIVKB3KV"
      },
      "execution_count": 5,
      "outputs": []
    },
    {
      "cell_type": "markdown",
      "source": [
        "![image.png](data:image/png;base64,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)"
      ],
      "metadata": {
        "id": "zEBQ2cC1Do4C"
      }
    },
    {
      "cell_type": "code",
      "source": [
        "def get_covariance(H,P_predict,R):\n",
        "  return H*P_predict*H.transpose()+R"
      ],
      "metadata": {
        "id": "iyewUORXDEOv"
      },
      "execution_count": 6,
      "outputs": []
    },
    {
      "cell_type": "markdown",
      "source": [
        "![image.png](data:image/png;base64,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)"
      ],
      "metadata": {
        "id": "ME4je20HENvp"
      }
    },
    {
      "cell_type": "code",
      "source": [
        "def get_kalman_gain(P_predict,H,Sk): \n",
        "  return P_predict*H.transpose()*np.linalg.inv(Sk)"
      ],
      "metadata": {
        "id": "jTE1mfhmEOF8"
      },
      "execution_count": 7,
      "outputs": []
    },
    {
      "cell_type": "markdown",
      "source": [
        "![image.png](data:image/png;base64,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)"
      ],
      "metadata": {
        "id": "6miJFsZMFYll"
      }
    },
    {
      "cell_type": "code",
      "source": [
        "def update_state_estimate(Xk_predict,KG,Yk):\n",
        "  return Xk_predict+KG*Yk"
      ],
      "metadata": {
        "id": "xoHfkkhiFYXj"
      },
      "execution_count": 8,
      "outputs": []
    },
    {
      "cell_type": "markdown",
      "source": [
        "![image.png](data:image/png;base64,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)"
      ],
      "metadata": {
        "id": "AeG573KFFwe9"
      }
    },
    {
      "cell_type": "code",
      "source": [
        "def update_estimate_covariance(KG,H,P_predict):\n",
        "  KH=KG*H\n",
        "  return (np.identity(KH.shape[0])-KH)*P_predict"
      ],
      "metadata": {
        "id": "CNKFg_UUFwBE"
      },
      "execution_count": 9,
      "outputs": []
    },
    {
      "cell_type": "markdown",
      "source": [
        "![image.png](data:image/png;base64,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)"
      ],
      "metadata": {
        "id": "ah6yRbcQGuGk"
      }
    },
    {
      "cell_type": "code",
      "source": [
        "def measurment_post_fit(Zk,H,Xkk):\n",
        "  return Zk-H*Xkk"
      ],
      "metadata": {
        "id": "7Flxr_PxGucT"
      },
      "execution_count": 10,
      "outputs": []
    },
    {
      "cell_type": "markdown",
      "source": [
        "##**Ex1**"
      ],
      "metadata": {
        "id": "MA8XTVuu_XbJ"
      }
    },
    {
      "cell_type": "code",
      "source": [
        "Xk=np.matrix(([8],[5]))"
      ],
      "metadata": {
        "id": "Q1ldgcy6AGyG"
      },
      "execution_count": 11,
      "outputs": []
    },
    {
      "cell_type": "code",
      "source": [
        "inaccuracy_p=2\n",
        "inaccuracy_v=1.2\n",
        "P=np.matrix(([np.square(inaccuracy_p),0],[0,np.square(inaccuracy_v)]))"
      ],
      "metadata": {
        "id": "vs0Z7Jhg-62n"
      },
      "execution_count": 12,
      "outputs": []
    },
    {
      "cell_type": "code",
      "source": [
        "sensor_inaccuracy_p=0.5\n",
        "R=np.matrix(([np.square(sensor_inaccuracy_p)]))"
      ],
      "metadata": {
        "id": "XkbXM2j64eB7"
      },
      "execution_count": 13,
      "outputs": []
    },
    {
      "cell_type": "code",
      "source": [
        "F=np.matrix(([1,delta_t],[0,1]))"
      ],
      "metadata": {
        "id": "YHxaueQU_Hyh"
      },
      "execution_count": 14,
      "outputs": []
    },
    {
      "cell_type": "code",
      "source": [
        "Zk=np.matrix(([43]))"
      ],
      "metadata": {
        "id": "N__GZUf3_VE3"
      },
      "execution_count": 15,
      "outputs": []
    },
    {
      "cell_type": "code",
      "source": [
        "H=np.matrix(([1/feet_coefficient,0]))"
      ],
      "metadata": {
        "id": "htIsHBZtDN39"
      },
      "execution_count": 16,
      "outputs": []
    },
    {
      "cell_type": "markdown",
      "source": [
        "## Predict"
      ],
      "metadata": {
        "id": "oqJk92nc-rU7"
      }
    },
    {
      "cell_type": "code",
      "source": [
        "Xk_predict=get_prdict_state(F,Xk)\n",
        "P_predict=get_predict_estimate(F,P)"
      ],
      "metadata": {
        "id": "GXrYGzsoJtZd"
      },
      "execution_count": 17,
      "outputs": []
    },
    {
      "cell_type": "markdown",
      "source": [
        "# **Update**"
      ],
      "metadata": {
        "id": "b3l906ieLI9R"
      }
    },
    {
      "cell_type": "code",
      "source": [
        "Yk= get_measurement(Zk,H,Xk_predict)\n",
        "Sk=get_covariance(H,P_predict,R)\n",
        "KG=get_kalman_gain(P_predict,H,Sk)\n",
        "Xkk=update_state_estimate(Xk_predict,KG,Yk)\n",
        "Pkk=update_estimate_covariance(KG,H,P_predict)\n",
        "Ykk=measurment_post_fit(Zk,H,Xkk)"
      ],
      "metadata": {
        "id": "6DZ_GFTdLTBL"
      },
      "execution_count": 18,
      "outputs": []
    },
    {
      "cell_type": "code",
      "source": [
        "print(\"observation:\",H)\n",
        "print(\"\\n\")\n",
        "print(\"estimate:\\n\",P)\n",
        "print(\"\\n\")\n",
        "print(\"state-transition:\\n\",F)\n",
        "print(\"\\n\")\n",
        "print(\"Optimal Kalman Gain:\\n\",KG)"
      ],
      "metadata": {
        "colab": {
          "base_uri": "https://localhost:8080/"
        },
        "id": "Td3OMMKLTFcC",
        "outputId": "ab9885d4-bd77-4bad-f928-f7347d923b6d"
      },
      "execution_count": 19,
      "outputs": [
        {
          "output_type": "stream",
          "name": "stdout",
          "text": [
            "observation: [[3.2808399 0.       ]]\n",
            "\n",
            "\n",
            "estimate:\n",
            " [[4.   0.  ]\n",
            " [0.   1.44]]\n",
            "\n",
            "\n",
            "state-transition:\n",
            " [[1 1]\n",
            " [0 1]]\n",
            "\n",
            "\n",
            "Optimal Kalman Gain:\n",
            " [[0.30350421]\n",
            " [0.08033935]]\n"
          ]
        }
      ]
    },
    {
      "cell_type": "code",
      "source": [
        "print(\"Updated state estimate: \\n\",Xkk)\n",
        "print(\"\\n\")\n",
        "print(\"Updated estimate covariance:\\n\",Pkk)"
      ],
      "metadata": {
        "colab": {
          "base_uri": "https://localhost:8080/"
        },
        "id": "C0QqXKK9UjQe",
        "outputId": "b8534e7d-b1b2-4316-e81d-2b00ccd35256"
      },
      "execution_count": 20,
      "outputs": [
        {
          "output_type": "stream",
          "name": "stdout",
          "text": [
            "Updated state estimate: \n",
            " [[13.10594766]\n",
            " [ 5.02804497]]\n",
            "\n",
            "\n",
            "Updated estimate covariance:\n",
            " [[0.02312702 0.00612186]\n",
            " [0.00612186 1.06044402]]\n"
          ]
        }
      ]
    },
    {
      "cell_type": "markdown",
      "source": [
        "# **EX2**"
      ],
      "metadata": {
        "id": "8i3C6NjXBvl9"
      }
    },
    {
      "cell_type": "code",
      "source": [
        "Xk=np.matrix(([8],[5]))"
      ],
      "metadata": {
        "id": "9CK0erMjtjjH"
      },
      "execution_count": 21,
      "outputs": []
    },
    {
      "cell_type": "code",
      "source": [
        "inaccuracy_p=2\n",
        "inaccuracy_v=1.2\n",
        "P=np.matrix(([np.square(inaccuracy_p),0],[0,np.square(inaccuracy_v)]))"
      ],
      "metadata": {
        "id": "gwVJYiFTtjjH"
      },
      "execution_count": 22,
      "outputs": []
    },
    {
      "cell_type": "code",
      "source": [
        "sensor_inaccuracy_p=0.5\n",
        "senspr_inaccuracy_v=4\n",
        "R=np.matrix(([np.square(sensor_inaccuracy_p),0],[0,np.square(senspr_inaccuracy_v)]))"
      ],
      "metadata": {
        "id": "3Hgwm6Bf3GEQ"
      },
      "execution_count": 23,
      "outputs": []
    },
    {
      "cell_type": "code",
      "source": [
        "F=np.matrix(([1,delta_t],[0,1]))"
      ],
      "metadata": {
        "id": "1IuaEe5mtjjI"
      },
      "execution_count": 24,
      "outputs": []
    },
    {
      "cell_type": "code",
      "source": [
        "Zk=np.matrix(([43],[4]))"
      ],
      "metadata": {
        "id": "HU60IEC8tjjI"
      },
      "execution_count": 25,
      "outputs": []
    },
    {
      "cell_type": "code",
      "source": [
        "H=np.matrix(([1/feet_coefficient,0],[0,1]))"
      ],
      "metadata": {
        "id": "ujl2V717tjjJ"
      },
      "execution_count": 26,
      "outputs": []
    },
    {
      "cell_type": "code",
      "source": [
        "Xk_predict=get_prdict_state(F,Xk)\n",
        "P_predict=get_predict_estimate(F,P)"
      ],
      "metadata": {
        "id": "miqjw86atjjJ"
      },
      "execution_count": 27,
      "outputs": []
    },
    {
      "cell_type": "code",
      "source": [
        "Yk= get_measurement(Zk,H,Xk_predict)\n",
        "Sk=get_covariance(H,P_predict,R)\n",
        "KG=get_kalman_gain(P_predict,H,Sk)\n",
        "Xkk=update_state_estimate(Xk_predict,KG,Yk)\n",
        "Pkk=update_estimate_covariance(KG,H,P_predict)\n",
        "Ykk=measurment_post_fit(Zk,H,Xkk)"
      ],
      "metadata": {
        "id": "ISvKzLVqtjjJ"
      },
      "execution_count": 28,
      "outputs": []
    },
    {
      "cell_type": "code",
      "source": [
        "print(\"observation:\",H)\n",
        "print(\"\\n\")\n",
        "print(\"estimate:\\n\",P)\n",
        "print(\"\\n\")\n",
        "print(\"state-transition:\\n\",F)\n",
        "print(\"\\n\")\n",
        "print(\"Optimal Kalman Gain:\\n\",KG)"
      ],
      "metadata": {
        "colab": {
          "base_uri": "https://localhost:8080/"
        },
        "outputId": "c6461bf3-5c20-41e5-ba10-bb81ada04f10",
        "id": "1d_Fu9YwtjjJ"
      },
      "execution_count": 29,
      "outputs": [
        {
          "output_type": "stream",
          "name": "stdout",
          "text": [
            "observation: [[3.2808399 0.       ]\n",
            " [0.        1.       ]]\n",
            "\n",
            "\n",
            "estimate:\n",
            " [[4.   0.  ]\n",
            " [0.   1.44]]\n",
            "\n",
            "\n",
            "state-transition:\n",
            " [[1 1]\n",
            " [0 1]]\n",
            "\n",
            "\n",
            "Optimal Kalman Gain:\n",
            " [[0.30347538 0.00035883]\n",
            " [0.07534561 0.06215806]]\n"
          ]
        }
      ]
    },
    {
      "cell_type": "code",
      "source": [
        "print(\"Updated state estimate: \\n\",Xkk)\n",
        "print(\"\\n\")\n",
        "print(\"Updated estimate covariance:\\n\",Pkk)"
      ],
      "metadata": {
        "colab": {
          "base_uri": "https://localhost:8080/"
        },
        "outputId": "bbd63e04-7ba5-48a5-9dee-0f2a20c42e62",
        "id": "-_kJli2-yfJl"
      },
      "execution_count": 30,
      "outputs": [
        {
          "output_type": "stream",
          "name": "stdout",
          "text": [
            "Updated state estimate: \n",
            " [[13.10557877]\n",
            " [ 4.96414369]]\n",
            "\n",
            "\n",
            "Updated estimate covariance:\n",
            " [[0.02312482 0.00574134]\n",
            " [0.00574134 0.99452888]]\n"
          ]
        }
      ]
    }
  ]
}